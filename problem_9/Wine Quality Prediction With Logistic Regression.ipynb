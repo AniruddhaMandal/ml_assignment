{
 "cells": [
  {
   "cell_type": "code",
   "execution_count": 9,
   "id": "d3728d7e-b54b-407e-b22b-8977e576607e",
   "metadata": {},
   "outputs": [],
   "source": [
    "import numpy as np"
   ]
  },
  {
   "cell_type": "markdown",
   "id": "de88cd48-8107-40d1-9980-c2a9555680e8",
   "metadata": {},
   "source": [
    "## Rtrive Data"
   ]
  },
  {
   "cell_type": "code",
   "execution_count": 33,
   "id": "335f0542-60a0-4aa6-b862-59c1577f7925",
   "metadata": {},
   "outputs": [],
   "source": [
    "class CSV(object):\n",
    "    def __init__(self,file_path):\n",
    "        with open(file_path) as fb:\n",
    "            line = fb.readline()\n",
    "            self.column_names = line.replace('\\n','').split(',')\n",
    "            self.data = np.loadtxt(fb,dtype=np.float64,delimiter=',')\n",
    "            "
   ]
  },
  {
   "cell_type": "code",
   "execution_count": 50,
   "id": "3ce16781-d036-43c5-ac1a-0dca6fee8831",
   "metadata": {},
   "outputs": [],
   "source": [
    "red_wine = CSV(\"dataset/winequality_red.csv\")"
   ]
  },
  {
   "cell_type": "code",
   "execution_count": 44,
   "id": "8a95143b-0c15-4573-a8e2-ded66b17089b",
   "metadata": {},
   "outputs": [],
   "source": [
    "white_wine = CSV(\"dataset/winequality_white.csv\")"
   ]
  },
  {
   "cell_type": "code",
   "execution_count": 51,
   "id": "2cd8c490-aecf-4d09-916d-b033895da3c1",
   "metadata": {},
   "outputs": [
    {
     "data": {
      "text/plain": [
       "(1599, 12)"
      ]
     },
     "execution_count": 51,
     "metadata": {},
     "output_type": "execute_result"
    }
   ],
   "source": [
    "red_wine.data.shape"
   ]
  },
  {
   "cell_type": "code",
   "execution_count": 52,
   "id": "b25562fd-8a51-40ae-bd04-810115e5ae03",
   "metadata": {},
   "outputs": [
    {
     "data": {
      "text/plain": [
       "(4898, 12)"
      ]
     },
     "execution_count": 52,
     "metadata": {},
     "output_type": "execute_result"
    }
   ],
   "source": [
    "white_wine.data.shape"
   ]
  },
  {
   "cell_type": "code",
   "execution_count": null,
   "id": "e3cdf805-cd7c-41a7-a841-26f010a4d41f",
   "metadata": {},
   "outputs": [],
   "source": [
    "def split_train_test(a,b):\n",
    "    length = a.shape[0]+b.shape[0]\n",
    "    X = np.concatenate((a,b),axis=0)\n",
    "    y = np.ones(length)\n",
    "    y[:a.shape[0]] = 0\n",
    "    permutation = np.random.permutation(length)\n",
    "    X = X[permutation]\n",
    "    y = y[permutation]\n",
    "    return (X[length//10:],y[length//10]),(X[:length//10],y[:length//10])\n",
    "\n",
    "(x_train,y_train),(x_test,y_test) = split_train_test(red_wine.data,white_wine.data)"
   ]
  },
  {
   "cell_type": "markdown",
   "id": "46a9912e-9544-49c4-8807-dd775d9109b6",
   "metadata": {},
   "source": [
    "## Logistic regression\n",
    "\n",
    "For logistic regression we model $p(y=1) = \\sigma(Wx)$. Where $W$ is the weight vector. "
   ]
  },
  {
   "cell_type": "code",
   "execution_count": null,
   "id": "162e1bca-1705-44ae-b4c7-ec5454a05a98",
   "metadata": {},
   "outputs": [],
   "source": []
  }
 ],
 "metadata": {
  "kernelspec": {
   "display_name": "Python 3 (ipykernel)",
   "language": "python",
   "name": "python3"
  },
  "language_info": {
   "codemirror_mode": {
    "name": "ipython",
    "version": 3
   },
   "file_extension": ".py",
   "mimetype": "text/x-python",
   "name": "python",
   "nbconvert_exporter": "python",
   "pygments_lexer": "ipython3",
   "version": "3.11.8"
  }
 },
 "nbformat": 4,
 "nbformat_minor": 5
}
