{
 "cells": [
  {
   "cell_type": "code",
   "execution_count": 1,
   "id": "829178df-0431-468e-b00e-cfb94066cbd7",
   "metadata": {},
   "outputs": [],
   "source": [
    "import os"
   ]
  },
  {
   "cell_type": "code",
   "execution_count": null,
   "id": "a3287360-c72a-4a91-b990-b86a70e080c3",
   "metadata": {},
   "outputs": [],
   "source": [
    "def csv_reader(f):\n",
    "    features =  f.readline().split(',')\n",
    "    line = f.readline()\n",
    "    while(line != '\\0'):\n",
    "        print(line)\n",
    "        line = f.readline()"
   ]
  },
  {
   "cell_type": "code",
   "execution_count": null,
   "id": "a5c65184-b34b-49ea-a5ac-e4a8d141894b",
   "metadata": {},
   "outputs": [],
   "source": [
    "with open(\"data/winequalityN.csv\") as f:\n",
    "    print(csv_reader(f))"
   ]
  },
  {
   "cell_type": "code",
   "execution_count": null,
   "id": "a90b4b92-07f0-4b14-8853-49cffffeac43",
   "metadata": {},
   "outputs": [],
   "source": []
  }
 ],
 "metadata": {
  "kernelspec": {
   "display_name": "Python 3 (ipykernel)",
   "language": "python",
   "name": "python3"
  },
  "language_info": {
   "codemirror_mode": {
    "name": "ipython",
    "version": 3
   },
   "file_extension": ".py",
   "mimetype": "text/x-python",
   "name": "python",
   "nbconvert_exporter": "python",
   "pygments_lexer": "ipython3",
   "version": "3.11.8"
  }
 },
 "nbformat": 4,
 "nbformat_minor": 5
}
